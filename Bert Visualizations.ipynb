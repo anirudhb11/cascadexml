{
 "cells": [
  {
   "cell_type": "code",
   "execution_count": 1,
   "id": "e4bfa208",
   "metadata": {},
   "outputs": [],
   "source": [
    "import pickle as pkl\n",
    "import numpy as np\n",
    "import torch"
   ]
  },
  {
   "cell_type": "code",
   "execution_count": 2,
   "id": "3ba154b6",
   "metadata": {},
   "outputs": [],
   "source": [
    "from bertviz.neuron_view import show\n",
    "from bertviz import head_view, model_view\n",
    "from transformers import BertTokenizer"
   ]
  },
  {
   "cell_type": "code",
   "execution_count": 3,
   "id": "ffa8f932",
   "metadata": {},
   "outputs": [],
   "source": [
    "input_tokens = pkl.load(open('./data/Amazon-670K/bert-base/attention_tokens.pkl', 'rb'))\n",
    "input_texts = open('./data/Amazon-670K/attention_texts.txt', 'r').readlines()"
   ]
  },
  {
   "cell_type": "code",
   "execution_count": 4,
   "id": "be181494",
   "metadata": {},
   "outputs": [],
   "source": [
    "attention_maps = np.load('Attention_Maps.npy')"
   ]
  },
  {
   "cell_type": "code",
   "execution_count": 5,
   "id": "b5502658",
   "metadata": {},
   "outputs": [],
   "source": [
    "for i, t in enumerate(input_texts):\n",
    "  input_texts[i] = t.replace('\\n', '')"
   ]
  },
  {
   "cell_type": "code",
   "execution_count": 6,
   "id": "0a9f6491",
   "metadata": {},
   "outputs": [],
   "source": [
    "model_version = 'bert-base-uncased'\n",
    "do_lower_case = True\n",
    "# model = BertModel.from_pretrained(model_version, output_attentions=True)\n",
    "tokenizer = BertTokenizer.from_pretrained(model_version, do_lower_case=do_lower_case)"
   ]
  },
  {
   "cell_type": "code",
   "execution_count": 10,
   "id": "47b9ef23",
   "metadata": {},
   "outputs": [],
   "source": [
    "i = 0\n",
    "# sentence_a = \"The cat sat on the mat\"\n",
    "# sentence_b = \"The cat lay on the rug\"\n",
    "# inputs = tokenizer.encode_plus(sentence_a, sentence_b, return_tensors='pt', add_special_tokens=True)\n",
    "inputs_id_list = [tokenizer.cls_token_id] + input_tokens[i][:126] + [tokenizer.sep_token_id] \n",
    "padding_length = 128 - len(inputs_id_list)\n",
    "inputs_id_list = inputs_id_list + ([0] * padding_length)\n",
    "# token_type_ids = inputs['token_type_ids']\n",
    "# input_ids = inputs['input_ids']\n",
    "# attention = model(input_ids, token_type_ids=token_type_ids)[-1]\n",
    "# input_id_list = input_ids[0].tolist() # Batch index 0\n",
    "attention = [torch.FloatTensor(am) for am in attention_maps[i]]\n",
    "tokens = tokenizer.convert_ids_to_tokens(inputs_id_list)"
   ]
  },
  {
   "cell_type": "code",
   "execution_count": 11,
   "id": "f6221db8",
   "metadata": {},
   "outputs": [
    {
     "data": {
      "text/html": [
       "<script src=\"https://cdnjs.cloudflare.com/ajax/libs/require.js/2.3.6/require.min.js\"></script>"
      ],
      "text/plain": [
       "<IPython.core.display.HTML object>"
      ]
     },
     "metadata": {},
     "output_type": "display_data"
    },
    {
     "data": {
      "text/html": [
       "      \n",
       "        <div id=\"bertviz-959dbeea57b44f1ea71549e93ceb5c1e\" style=\"font-family:'Helvetica Neue', Helvetica, Arial, sans-serif;\">\n",
       "            <span style=\"user-select:none\">\n",
       "                Layer: <select id=\"layer\"></select>\n",
       "                Attention: <select id=\"filter\"><option value=\"0\">All</option>\n",
       "<option value=\"1\">Sentence A -> Sentence A</option>\n",
       "<option value=\"2\">Sentence B -> Sentence B</option>\n",
       "<option value=\"3\">Sentence A -> Sentence B</option>\n",
       "<option value=\"4\">Sentence B -> Sentence A</option></select>\n",
       "            </span>\n",
       "            <div id='vis'></div>\n",
       "        </div>\n",
       "    "
      ],
      "text/plain": [
       "<IPython.core.display.HTML object>"
      ]
     },
     "metadata": {},
     "output_type": "display_data"
    }
   ],
   "source": [
    "head_view(attention, tokens, 10)"
   ]
  },
  {
   "cell_type": "code",
   "execution_count": null,
   "id": "da205d85",
   "metadata": {},
   "outputs": [],
   "source": []
  },
  {
   "cell_type": "code",
   "execution_count": null,
   "id": "f5e3c5d4",
   "metadata": {},
   "outputs": [],
   "source": []
  }
 ],
 "metadata": {
  "kernelspec": {
   "display_name": "Python 3 (ipykernel)",
   "language": "python",
   "name": "python3"
  },
  "language_info": {
   "codemirror_mode": {
    "name": "ipython",
    "version": 3
   },
   "file_extension": ".py",
   "mimetype": "text/x-python",
   "name": "python",
   "nbconvert_exporter": "python",
   "pygments_lexer": "ipython3",
   "version": "3.8.11"
  }
 },
 "nbformat": 4,
 "nbformat_minor": 5
}
